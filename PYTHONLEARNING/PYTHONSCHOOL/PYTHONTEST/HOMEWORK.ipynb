{
 "cells": [
  {
   "cell_type": "code",
   "execution_count": 2,
   "metadata": {},
   "outputs": [
    {
     "name": "stdout",
     "output_type": "stream",
     "text": [
      "Before : [18, 27, 11, 56, 89, 75, 77, 3]\n",
      "Round No 1 : [18, 11, 27, 56, 75, 77, 3, 89]\n",
      "Round No 2 : [11, 18, 27, 56, 75, 3, 77, 89]\n",
      "Round No 3 : [11, 18, 27, 56, 3, 75, 77, 89]\n",
      "Round No 4 : [11, 18, 27, 3, 56, 75, 77, 89]\n",
      "Round No 5 : [11, 18, 3, 27, 56, 75, 77, 89]\n",
      "Round No 6 : [11, 3, 18, 27, 56, 75, 77, 89]\n",
      "Round No 7 : [3, 11, 18, 27, 56, 75, 77, 89]\n",
      "Sorted list : [3, 11, 18, 27, 56, 75, 77, 89]\n",
      "Number of rounds: 28\n"
     ]
    }
   ],
   "source": [
    "def swap(lst, i, j):\n",
    "    temp = lst[i]\n",
    "    lst[i] = lst[j]\n",
    "    lst[j] = temp\n",
    "    return lst\n",
    "\n",
    "\n",
    "def bubble_sort(lst):\n",
    "    n = len(lst)\n",
    "    count = 0  \n",
    "    print(f\"Before : {lst}\")\n",
    "    \n",
    "    for i in range(n-1):\n",
    "        for j in range(0, n-i-1):\n",
    "            count += 1  \n",
    "            if lst[j] > lst[j+1]:\n",
    "                swap(lst, j, j+1)\n",
    "                \n",
    "        print(f\"Round No {i + 1} : {lst}\")\n",
    "        \n",
    "    return lst, count\n",
    "\n",
    "\n",
    "lst = [18,27,11,56,89,75,77,3]\n",
    "sorted_arr, rounds = bubble_sort(lst)\n",
    "print(\"Sorted list :\", sorted_arr)\n",
    "print(\"Number of rounds:\", rounds)\n"
   ]
  }
 ],
 "metadata": {
  "kernelspec": {
   "display_name": "Python 3",
   "language": "python",
   "name": "python3"
  },
  "language_info": {
   "codemirror_mode": {
    "name": "ipython",
    "version": 3
   },
   "file_extension": ".py",
   "mimetype": "text/x-python",
   "name": "python",
   "nbconvert_exporter": "python",
   "pygments_lexer": "ipython3",
   "version": "3.12.3"
  }
 },
 "nbformat": 4,
 "nbformat_minor": 2
}
